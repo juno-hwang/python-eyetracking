{
  "cells": [
    {
      "cell_type": "markdown",
      "metadata": {
        "id": "jywzSmwDtyMW"
      },
      "source": [
        "# Introduction to Python\n",
        "\n",
        "Python is an interpreter language\n",
        "\n",
        "## 1. Basics of Python"
      ]
    },
    {
      "cell_type": "code",
      "execution_count": null,
      "metadata": {
        "colab": {
          "base_uri": "https://localhost:8080/",
          "height": 86
        },
        "id": "HYNR8kheulLM",
        "outputId": "bc4a5e22-3383-4881-ae10-163af71bdb3c"
      },
      "outputs": [
        {
          "name": "stdout",
          "output_type": "stream",
          "text": [
            "Hello World\n",
            "Hello\n",
            "World\n",
            "Hello World\n"
          ]
        }
      ],
      "source": [
        "# Print Statement\n",
        "print(\"Hello World\")\n",
        "\n",
        "# Print enters a newline after the string printed\n",
        "print(\"Hello\")\n",
        "print(\"World\")"
      ]
    },
    {
      "cell_type": "markdown",
      "metadata": {
        "id": "k7q58UqZ2oqo"
      },
      "source": [
        "#### Comment\n",
        "Comment can be used for documentation or explanation of code. Multiline comment is not supported though in python but multiline strings are used in that case."
      ]
    },
    {
      "cell_type": "code",
      "execution_count": null,
      "metadata": {
        "id": "K2dNknaU2l_H"
      },
      "outputs": [],
      "source": [
        "# This a comment"
      ]
    },
    {
      "cell_type": "code",
      "execution_count": null,
      "metadata": {
        "colab": {
          "base_uri": "https://localhost:8080/",
          "height": 34
        },
        "id": "8BtUMPy_2-kz",
        "outputId": "b0b14631-89b6-4c62-99a6-6912758b1921"
      },
      "outputs": [
        {
          "data": {
            "text/plain": [
              "'\\nThis is a multi\\nline comment\\n'"
            ]
          },
          "execution_count": 3,
          "metadata": {
            "tags": []
          },
          "output_type": "execute_result"
        }
      ],
      "source": [
        "'''\n",
        "This is a multi\n",
        "line comment\n",
        "'''"
      ]
    },
    {
      "cell_type": "markdown",
      "metadata": {
        "id": "30ZsMPicvJal"
      },
      "source": [
        "### Arithmetic Operators\n",
        "\n",
        "Python supports 7 arithmetic operations\n",
        "- +(additon)\n",
        "- -(Subtraction)\n",
        "- *(Multiplication)\n",
        "- /(Division)\n",
        "- //(Integer Division)\n",
        "-  %(Modulus)\n",
        "- **(Exponential)"
      ]
    },
    {
      "cell_type": "code",
      "execution_count": null,
      "metadata": {
        "colab": {
          "base_uri": "https://localhost:8080/",
          "height": 139
        },
        "id": "Oh8kgCS0un_p",
        "outputId": "b22a9236-94ca-4247-ff6d-d834e94877a1"
      },
      "outputs": [
        {
          "name": "stdout",
          "output_type": "stream",
          "text": [
            "11\n",
            "3\n",
            "42\n",
            "3.888888888888889\n",
            "3\n",
            "8\n",
            "390625\n"
          ]
        }
      ],
      "source": [
        "# Addition\n",
        "print( 5 + 6)\n",
        "\n",
        "# Subtraction\n",
        "print( 10 - 7)\n",
        "\n",
        "# Multiplication\n",
        "print( 6 * 7)\n",
        "\n",
        "# Division\n",
        "print( 35 / 9)\n",
        "\n",
        "# Integer Division\n",
        "print ( 35 // 9)\n",
        "\n",
        "# Modulus\n",
        "print( 35 % 9)\n",
        "\n",
        "# Exponential\n",
        "print( 5 ** 8)"
      ]
    },
    {
      "cell_type": "markdown",
      "metadata": {
        "id": "xNbJWwmR7O-Q"
      },
      "source": [
        "### Relational Operators\n",
        "There are 6 relational operators\n",
        "- == (Equal)\n",
        "- != (Not equal)\n",
        "- \\> (Greater than)\n",
        "- \\< (Less than \tx < y)\n",
        "- \\>= (Greater than or equal to)\n",
        "- <= \t(Less than or equal to)"
      ]
    },
    {
      "cell_type": "code",
      "execution_count": null,
      "metadata": {
        "colab": {
          "base_uri": "https://localhost:8080/",
          "height": 121
        },
        "id": "m-C5AviX8Eui",
        "outputId": "f7a2861e-941e-4fef-ff1c-fcec97ce0bea"
      },
      "outputs": [
        {
          "name": "stdout",
          "output_type": "stream",
          "text": [
            "True\n",
            "False\n",
            "False\n",
            "True\n",
            "False\n",
            "True\n"
          ]
        }
      ],
      "source": [
        "# greater than\n",
        "print(45 > 34)\n",
        "\n",
        "# less than\n",
        "print(45 < 34)\n",
        "\n",
        "# equal\n",
        "print(45 == 34)\n",
        "\n",
        "# not equal\n",
        "print(45 != 34)\n",
        "\n",
        "# less than or equal to\n",
        "print(45 <= 34)\n",
        "\n",
        "# greater than or equal to\n",
        "print(45 >= 34)"
      ]
    },
    {
      "cell_type": "markdown",
      "metadata": {
        "id": "8_Qxk4iU8ni0"
      },
      "source": [
        "## Variables and DataTypes"
      ]
    },
    {
      "cell_type": "code",
      "execution_count": null,
      "metadata": {
        "colab": {
          "base_uri": "https://localhost:8080/",
          "height": 52
        },
        "id": "cliExyAp4WqH",
        "outputId": "e9ee881f-f830-4acf-d54a-6e8089178f45"
      },
      "outputs": [
        {
          "name": "stdout",
          "output_type": "stream",
          "text": [
            "780\n",
            "780\n"
          ]
        }
      ],
      "source": [
        "# Assignment\n",
        "a = 12\n",
        "b = 65\n",
        "c = a * b\n",
        "print( a * b)\n",
        "print(c)"
      ]
    },
    {
      "cell_type": "markdown",
      "metadata": {
        "id": "a7t2GSNi9OVV"
      },
      "source": [
        "### Variable naming rules\n",
        "Variable names flow almost same set of rules like most other programming languages\n",
        "\n",
        "1.    A variable name must start with a letter or the underscore character\n",
        "2.    A variable name cannot start with a number\n",
        "3.    A variable name can only contain alpha-numeric characters and underscores (A-z, 0-9, and _ )\n",
        "4.    Variable names are case-sensitive (age, Age and AGE are three different variables)\n"
      ]
    },
    {
      "cell_type": "code",
      "execution_count": null,
      "metadata": {
        "colab": {
          "base_uri": "https://localhost:8080/",
          "height": 34
        },
        "id": "4aOhF61z9Z9U",
        "outputId": "26d2fc72-516d-4033-e735-dd6559dab2b5"
      },
      "outputs": [
        {
          "name": "stdout",
          "output_type": "stream",
          "text": [
            "123\n"
          ]
        }
      ],
      "source": [
        "adl_123= 123\n",
        "print( adl_123)"
      ]
    },
    {
      "cell_type": "markdown",
      "metadata": {
        "id": "DXX0VHX1-h1a"
      },
      "source": [
        "### Data types\n",
        "- Text Type: \tstr\n",
        "- Numeric Types: \tint, float, complex\n",
        "- Sequence Types: \tlist, tuple, range\n",
        "- Mapping Type: \tdict\n",
        "- Set Types: \tset, frozenset\n",
        "- Boolean Type: \tbool\n",
        "- Binary Types: \tbytes, bytearray, memoryview\n",
        "\n",
        "[Note: Python supports auto-typecasting and doesn't imply user to provide data type of variable during declaration. Type of any variable can be checked using type(). ]"
      ]
    },
    {
      "cell_type": "code",
      "execution_count": null,
      "metadata": {
        "colab": {
          "base_uri": "https://localhost:8080/",
          "height": 278
        },
        "id": "ik6xVCr4-gu1",
        "outputId": "ff57e686-8752-4e2c-cc6c-3c8ea74fc12e"
      },
      "outputs": [
        {
          "name": "stdout",
          "output_type": "stream",
          "text": [
            "<class 'int'>\n",
            "<class 'str'>\n",
            "<class 'int'>\n",
            "<class 'float'>\n",
            "<class 'complex'>\n",
            "<class 'list'>\n",
            "<class 'tuple'>\n",
            "<class 'range'>\n",
            "<class 'dict'>\n",
            "<class 'set'>\n",
            "<class 'frozenset'>\n",
            "<class 'bool'>\n",
            "<class 'bytes'>\n",
            "<class 'bytearray'>\n",
            "<class 'memoryview'>\n"
          ]
        }
      ],
      "source": [
        "x = 5\n",
        "print(type(x))\n",
        "x = \"Hello World\"\n",
        "print(type(x))\n",
        "x = 20\n",
        "print(type(x))\n",
        "x = 20.5\n",
        "print(type(x))\n",
        "x = 1j\n",
        "print(type(x))\n",
        "x = [\"apple\", \"banana\", \"cherry\"]\n",
        "print(type(x))\n",
        "x = (\"apple\", \"banana\", \"cherry\")\n",
        "print(type(x))\n",
        "x = range(6)\n",
        "print(type(x))\n",
        "x = {\"name\" : \"John\", \"age\" : 36}\n",
        "print(type(x))\n",
        "x = {\"apple\", \"banana\", \"cherry\"}\n",
        "print(type(x))\n",
        "x = frozenset({\"apple\", \"banana\", \"cherry\"})\n",
        "print(type(x))\n",
        "x = True\n",
        "print(type(x))\n",
        "x = b\"Hello\"\n",
        "print(type(x))\n",
        "x = bytearray(5)\n",
        "print(type(x))\n",
        "x = memoryview(bytes(5))\n",
        "print(type(x))\n"
      ]
    },
    {
      "cell_type": "markdown",
      "metadata": {
        "id": "7bkBO2NiDYEu"
      },
      "source": [
        "### Conditional Statements\n",
        "Simply these are if, if-else and if-elif-else or combination of if-many elif-else"
      ]
    },
    {
      "cell_type": "code",
      "execution_count": null,
      "metadata": {
        "colab": {
          "base_uri": "https://localhost:8080/",
          "height": 34
        },
        "id": "QPyQzk2bDXoA",
        "outputId": "93e131b1-8dab-43ad-8fbf-e06cc8ff4bdd"
      },
      "outputs": [
        {
          "name": "stdout",
          "output_type": "stream",
          "text": [
            "Even\n"
          ]
        }
      ],
      "source": [
        "x=4\n",
        "\n",
        "if x%2 == 0:\n",
        "    print(\"Even\")\n",
        "else:\n",
        "    print(\"Odd\")"
      ]
    },
    {
      "cell_type": "code",
      "execution_count": null,
      "metadata": {
        "colab": {
          "base_uri": "https://localhost:8080/",
          "height": 34
        },
        "id": "jMZ1LYyG-S7N",
        "outputId": "aa69a588-8555-4186-d486-37981a877523"
      },
      "outputs": [
        {
          "name": "stdout",
          "output_type": "stream",
          "text": [
            "Grade B\n"
          ]
        }
      ],
      "source": [
        "y=90\n",
        "\n",
        "if y>90 :\n",
        "    print(\"Grade A\")\n",
        "elif y>60 :\n",
        "    print(\"Grade B\")\n",
        "else:\n",
        "    print(\"Grade F\")"
      ]
    },
    {
      "cell_type": "markdown",
      "metadata": {
        "id": "nW4NdvznJVSd"
      },
      "source": [
        "### Looping Conditions"
      ]
    },
    {
      "cell_type": "code",
      "execution_count": null,
      "metadata": {
        "colab": {
          "base_uri": "https://localhost:8080/",
          "height": 694
        },
        "id": "CtkME_mYJcsG",
        "outputId": "2d032373-a4f7-49b0-9f14-7657d7214431"
      },
      "outputs": [
        {
          "name": "stdout",
          "output_type": "stream",
          "text": [
            "11\n",
            "12\n",
            "13\n",
            "14\n",
            "15\n",
            "16\n",
            "17\n",
            "18\n",
            "19\n",
            "20\n",
            "21\n",
            "22\n",
            "23\n",
            "24\n",
            "25\n",
            "26\n",
            "27\n",
            "28\n",
            "29\n",
            "30\n",
            "31\n",
            "32\n",
            "33\n",
            "34\n",
            "35\n",
            "36\n",
            "37\n",
            "38\n",
            "39\n",
            "40\n",
            "41\n",
            "42\n",
            "43\n",
            "44\n",
            "45\n",
            "46\n",
            "47\n",
            "48\n",
            "49\n"
          ]
        }
      ],
      "source": [
        "for i in range(11,50):\n",
        "    print(i)"
      ]
    },
    {
      "cell_type": "code",
      "execution_count": null,
      "metadata": {
        "colab": {
          "base_uri": "https://localhost:8080/",
          "height": 34
        },
        "id": "OK8CCYEaJkIl",
        "outputId": "3ad0f7b5-b5e7-44a0-ee15-76779e30e249"
      },
      "outputs": [
        {
          "name": "stdout",
          "output_type": "stream",
          "text": [
            "55\n"
          ]
        }
      ],
      "source": [
        "i = 10\n",
        "s = 0\n",
        "while i!=0:\n",
        "  s = s + i\n",
        "  i = i - 1\n",
        "print(s)"
      ]
    },
    {
      "cell_type": "markdown",
      "metadata": {
        "id": "npfOcbHPOV4y"
      },
      "source": [
        "## 2. List and Functions\n",
        "\n",
        "### Functions\n",
        "Functions can be either built-in or user-defined."
      ]
    },
    {
      "cell_type": "markdown",
      "metadata": {
        "id": "QDxenAhSY66l"
      },
      "source": [
        "We define user defined function with the help of def keyword\n",
        "\n",
        "```\n",
        "def function_name(params=default_value(optional)):\n",
        "  function_definition\n",
        "```"
      ]
    },
    {
      "cell_type": "code",
      "execution_count": null,
      "metadata": {
        "colab": {
          "base_uri": "https://localhost:8080/",
          "height": 34
        },
        "id": "T6KQTmA4YSis",
        "outputId": "e78e4033-8d24-415d-ef7a-143309192cb4"
      },
      "outputs": [
        {
          "name": "stdout",
          "output_type": "stream",
          "text": [
            "25\n"
          ]
        }
      ],
      "source": [
        "# Finding the square of n\n",
        "def square(i):\n",
        "  return i*i\n",
        "\n",
        "print(square(5))"
      ]
    },
    {
      "cell_type": "code",
      "execution_count": null,
      "metadata": {
        "colab": {
          "base_uri": "https://localhost:8080/",
          "height": 34
        },
        "id": "pqp1MucFZdNq",
        "outputId": "89351fac-b7db-4bc4-bc9a-b3322d382a39"
      },
      "outputs": [
        {
          "data": {
            "text/plain": [
              "('Hello Palspal Nice to have you abroad', 'You are the 5th customer')"
            ]
          },
          "execution_count": 23,
          "metadata": {
            "tags": []
          },
          "output_type": "execute_result"
        }
      ],
      "source": [
        "#This function will greet you if you pass a name\n",
        "def greet(username,n):\n",
        "  return (\"Hello \"+ username +\" Nice to have you abroad\"),(\"You are the \" +str(n)+\"th customer\")\n",
        "\n",
        "\n",
        "greet(\"Palspal\",5)"
      ]
    },
    {
      "cell_type": "code",
      "execution_count": null,
      "metadata": {
        "colab": {
          "base_uri": "https://localhost:8080/",
          "height": 34
        },
        "id": "wQvge527ZpdT",
        "outputId": "1076e0e2-ca38-42ce-885a-9ba800d20d5f"
      },
      "outputs": [
        {
          "data": {
            "text/plain": [
              "(100, 6, 10, 100)"
            ]
          },
          "execution_count": 24,
          "metadata": {
            "tags": []
          },
          "output_type": "execute_result"
        }
      ],
      "source": [
        "# function with multiple return\n",
        "elist = [10,50,30,12,6,8,100]\n",
        "def efunc(b):\n",
        "    highest = max(b)\n",
        "    lowest = min(b)\n",
        "    first = b[0]\n",
        "    last = b[-1]\n",
        "    return highest,lowest,first,last\n",
        "\n",
        "efunc(elist)"
      ]
    },
    {
      "cell_type": "markdown",
      "metadata": {
        "id": "f_jlBHVhsQIS"
      },
      "source": [
        "### Implicit arguments\n",
        "When an argument of a function is common in majority of the cases or it is \"implicit\" this concept is used."
      ]
    },
    {
      "cell_type": "code",
      "execution_count": null,
      "metadata": {
        "colab": {
          "base_uri": "https://localhost:8080/",
          "height": 52
        },
        "id": "sl3oVnVZqAv6",
        "outputId": "c2985e30-9a6c-4ef7-e20c-dbbc97d96f1c"
      },
      "outputs": [
        {
          "name": "stdout",
          "output_type": "stream",
          "text": [
            "Leap year\n",
            "Not a leap year\n"
          ]
        }
      ],
      "source": [
        "def leap(a, c=4):\n",
        "  z=a%c\n",
        "  if(z==0):\n",
        "    print(\"Leap year\")\n",
        "  else:\n",
        "    print(\"Not a leap year\")\n",
        "\n",
        "leap(1980)\n",
        "leap(2100,400)"
      ]
    },
    {
      "cell_type": "markdown",
      "metadata": {
        "id": "OpqI4upeCOPo"
      },
      "source": [
        "## Lists\n",
        "A list is a collection which is ordered and changeable. In Python lists are written with square brackets."
      ]
    },
    {
      "cell_type": "code",
      "execution_count": null,
      "metadata": {
        "colab": {
          "base_uri": "https://localhost:8080/",
          "height": 34
        },
        "id": "YxZjatNjCNr1",
        "outputId": "58bac673-e679-4f98-8a67-0846b09ace5c"
      },
      "outputs": [
        {
          "name": "stdout",
          "output_type": "stream",
          "text": [
            "<class 'list'>\n"
          ]
        }
      ],
      "source": [
        "list_a = []\n",
        "print (type(list_a))"
      ]
    },
    {
      "cell_type": "code",
      "execution_count": null,
      "metadata": {
        "id": "9-IS1VW4Asd8"
      },
      "outputs": [],
      "source": [
        "# Let's define some list for the following illustrations\n",
        "\n",
        "num_list = [12, 65, 74, 82, 32.6, 71.4, 673.14]\n",
        "names_list=['palspal','anitesh','rajueatskaju','shatadru','ucalyptus']\n",
        "math_constant_list = [ 2.71828, 3.1415926535, 1.32471, 3.3598856662]"
      ]
    },
    {
      "cell_type": "markdown",
      "metadata": {
        "id": "a8vTFIfhDsGm"
      },
      "source": [
        "### **Indexing**\n",
        "In python, Indexing starts from 0. Thus now the list x, which has two elements will have apple at 0 index and orange at 1 index."
      ]
    },
    {
      "cell_type": "code",
      "execution_count": null,
      "metadata": {
        "colab": {
          "base_uri": "https://localhost:8080/",
          "height": 34
        },
        "id": "V8sidHpRDQ14",
        "outputId": "f8212c1d-7a4a-44a5-a2b5-d0a6e0c088c6"
      },
      "outputs": [
        {
          "data": {
            "text/plain": [
              "'palspal'"
            ]
          },
          "execution_count": 33,
          "metadata": {
            "tags": []
          },
          "output_type": "execute_result"
        }
      ],
      "source": [
        "names_list[0]"
      ]
    },
    {
      "cell_type": "markdown",
      "metadata": {
        "id": "ylzhRV6AENgp"
      },
      "source": [
        "in Python, if you are stating indexing from negative numbers, it will traverse through the back of the list.\n",
        "\n",
        "```\n",
        " x[0] = x[-4]\n",
        " x[1] = x[-3]\n",
        " ```\n",
        "\n",
        " This concept can be extended towards lists with more many elements."
      ]
    },
    {
      "cell_type": "code",
      "execution_count": null,
      "metadata": {
        "colab": {
          "base_uri": "https://localhost:8080/",
          "height": 34
        },
        "id": "Rf4Kq5c8DZQk",
        "outputId": "8c0da179-2de7-41da-fa56-f0b44a85ca1e"
      },
      "outputs": [
        {
          "data": {
            "text/plain": [
              "'ucalyptus'"
            ]
          },
          "execution_count": 34,
          "metadata": {
            "tags": []
          },
          "output_type": "execute_result"
        }
      ],
      "source": [
        "names_list[-1]"
      ]
    },
    {
      "cell_type": "code",
      "execution_count": null,
      "metadata": {
        "colab": {
          "base_uri": "https://localhost:8080/",
          "height": 34
        },
        "id": "j5YWTc3_EJKq",
        "outputId": "12cc0f50-873e-4fa7-ede8-516b07f0bec4"
      },
      "outputs": [
        {
          "data": {
            "text/plain": [
              "'rajueatskaju'"
            ]
          },
          "execution_count": 35,
          "metadata": {
            "tags": []
          },
          "output_type": "execute_result"
        }
      ],
      "source": [
        "names_list[-3]"
      ]
    },
    {
      "cell_type": "markdown",
      "metadata": {
        "id": "j-GCTNOmGtGq"
      },
      "source": [
        "We can merge two list into one to create a 2D list"
      ]
    },
    {
      "cell_type": "code",
      "execution_count": null,
      "metadata": {
        "colab": {
          "base_uri": "https://localhost:8080/",
          "height": 52
        },
        "id": "r9pbHEqvEw2k",
        "outputId": "1a54db91-3300-4ced-8369-d10dd0ed92f4"
      },
      "outputs": [
        {
          "data": {
            "text/plain": [
              "[[12, 65, 74, 82, 32.6, 71.4, 673.14],\n",
              " [2.71828, 3.1415926535, 1.32471, 3.3598856662]]"
            ]
          },
          "execution_count": 36,
          "metadata": {
            "tags": []
          },
          "output_type": "execute_result"
        }
      ],
      "source": [
        "merged_list=[num_list,math_constant_list]\n",
        "merged_list"
      ]
    },
    {
      "cell_type": "code",
      "execution_count": null,
      "metadata": {
        "colab": {
          "base_uri": "https://localhost:8080/",
          "height": 34
        },
        "id": "AQEtcFkDHDgX",
        "outputId": "b0c6a067-ce8b-459f-de2c-4287ca91dd24"
      },
      "outputs": [
        {
          "data": {
            "text/plain": [
              "74"
            ]
          },
          "execution_count": 37,
          "metadata": {
            "tags": []
          },
          "output_type": "execute_result"
        }
      ],
      "source": [
        "merged_list[0][2]"
      ]
    },
    {
      "cell_type": "code",
      "execution_count": null,
      "metadata": {
        "colab": {
          "base_uri": "https://localhost:8080/",
          "height": 34
        },
        "id": "SVxmcY4GGJ6c",
        "outputId": "e736b912-5835-4118-9e6b-d291b2b0e72f"
      },
      "outputs": [
        {
          "data": {
            "text/plain": [
              "3.3598856662"
            ]
          },
          "execution_count": 38,
          "metadata": {
            "tags": []
          },
          "output_type": "execute_result"
        }
      ],
      "source": [
        "merged_list[1][-1]"
      ]
    },
    {
      "cell_type": "markdown",
      "metadata": {
        "id": "bFtjm_onHoO2"
      },
      "source": [
        "Indexing limited us to accessing a single element at a time.\n",
        " Slicing on the other hand is accessing a sequence of data inside the list. In other words \"slicing\" the list.\n",
        "\n",
        "### **Slicing**\n",
        "It is done by defining the index values of the first element and the last element from the parent list that is required in the sliced list. It is written as parentlist[ a : b ] where a,b are the index values from the parent list. If a or b is not defined then the index value is considered to be the first value for a if a is not defined and the last value for b when b is not defined."
      ]
    },
    {
      "cell_type": "code",
      "execution_count": null,
      "metadata": {
        "colab": {
          "base_uri": "https://localhost:8080/",
          "height": 34
        },
        "id": "AyGNUb17Gbz1",
        "outputId": "5dbd7c18-aa8c-4fae-f44d-911a5c795cac"
      },
      "outputs": [
        {
          "data": {
            "text/plain": [
              "[12, 65, 74]"
            ]
          },
          "execution_count": 39,
          "metadata": {
            "tags": []
          },
          "output_type": "execute_result"
        }
      ],
      "source": [
        "merged_list[0][0:3]"
      ]
    },
    {
      "cell_type": "code",
      "execution_count": null,
      "metadata": {
        "colab": {
          "base_uri": "https://localhost:8080/",
          "height": 34
        },
        "id": "xHYS0vASH0db",
        "outputId": "6aeb6bed-3d4d-4354-9ef2-730a58771016"
      },
      "outputs": [
        {
          "data": {
            "text/plain": [
              "['anitesh', 'rajueatskaju']"
            ]
          },
          "execution_count": 40,
          "metadata": {
            "tags": []
          },
          "output_type": "execute_result"
        }
      ],
      "source": [
        "names_list[1:3]"
      ]
    },
    {
      "cell_type": "code",
      "execution_count": null,
      "metadata": {
        "colab": {
          "base_uri": "https://localhost:8080/",
          "height": 34
        },
        "id": "aEMg93LiJ0ve",
        "outputId": "f805e1bf-a16d-4759-c5b9-c25332ced223"
      },
      "outputs": [
        {
          "data": {
            "text/plain": [
              "['palspal', 'anitesh', 'rajueatskaju']"
            ]
          },
          "execution_count": 41,
          "metadata": {
            "tags": []
          },
          "output_type": "execute_result"
        }
      ],
      "source": [
        "names_list[:3]"
      ]
    },
    {
      "cell_type": "code",
      "execution_count": null,
      "metadata": {
        "colab": {
          "base_uri": "https://localhost:8080/",
          "height": 34
        },
        "id": "ruHC3OESJ7zX",
        "outputId": "1098a4fe-4048-40ae-9a8b-63958a15f348"
      },
      "outputs": [
        {
          "data": {
            "text/plain": [
              "['shatadru', 'ucalyptus']"
            ]
          },
          "execution_count": 42,
          "metadata": {
            "tags": []
          },
          "output_type": "execute_result"
        }
      ],
      "source": [
        "names_list[3:]"
      ]
    },
    {
      "cell_type": "code",
      "execution_count": null,
      "metadata": {
        "colab": {
          "base_uri": "https://localhost:8080/",
          "height": 167
        },
        "id": "b3FqjAH4IhzQ",
        "outputId": "dc5ff578-f2e3-4600-b3c4-cfeddeb34aa5"
      },
      "outputs": [
        {
          "ename": "IndexError",
          "evalue": "ignored",
          "output_type": "error",
          "traceback": [
            "\u001b[0;31m---------------------------------------------------------------------------\u001b[0m",
            "\u001b[0;31mIndexError\u001b[0m                                Traceback (most recent call last)",
            "\u001b[0;32m<ipython-input-43-5727448ab58e>\u001b[0m in \u001b[0;36m<module>\u001b[0;34m()\u001b[0m\n\u001b[0;32m----> 1\u001b[0;31m \u001b[0mnames_list\u001b[0m\u001b[0;34m[\u001b[0m\u001b[0;36m7\u001b[0m\u001b[0;34m]\u001b[0m \u001b[0;31m# Index error\u001b[0m\u001b[0;34m\u001b[0m\u001b[0;34m\u001b[0m\u001b[0m\n\u001b[0m",
            "\u001b[0;31mIndexError\u001b[0m: list index out of range"
          ]
        }
      ],
      "source": [
        "names_list[7] # Index error"
      ]
    },
    {
      "cell_type": "code",
      "execution_count": null,
      "metadata": {
        "colab": {
          "base_uri": "https://localhost:8080/",
          "height": 34
        },
        "id": "Vms2HmlLJ7OG",
        "outputId": "33a3e19f-baf6-494a-b133-cb9658126fd0"
      },
      "outputs": [
        {
          "data": {
            "text/plain": [
              "[3, 5, 7]"
            ]
          },
          "execution_count": 44,
          "metadata": {
            "tags": []
          },
          "output_type": "execute_result"
        }
      ],
      "source": [
        "numbers = [i for i in range(25)]\n",
        "numbers[3:9:2]"
      ]
    },
    {
      "cell_type": "markdown",
      "metadata": {
        "id": "jISBnXz5q8D2"
      },
      "source": [
        "Python sequence slice addresses can be written as a[start:end:step] and any of start, stop or end can be dropped. a[: : i] is every i'th element of the sequence.\n",
        "\n",
        "There are two ways of generating list from range :-\n",
        "\n",
        "- using list() typecasting\n",
        "- using shorter notation"
      ]
    },
    {
      "cell_type": "code",
      "execution_count": null,
      "metadata": {
        "colab": {
          "base_uri": "https://localhost:8080/",
          "height": 34
        },
        "id": "h7wSNKJbqeLA",
        "outputId": "a5e86cb6-bfbe-4f5b-ebb1-1d95f046787d"
      },
      "outputs": [
        {
          "data": {
            "text/plain": [
              "[0, 2, 4, 6, 8]"
            ]
          },
          "execution_count": 45,
          "metadata": {
            "tags": []
          },
          "output_type": "execute_result"
        }
      ],
      "source": [
        "list(range(10)[::2])"
      ]
    },
    {
      "cell_type": "code",
      "execution_count": null,
      "metadata": {
        "colab": {
          "base_uri": "https://localhost:8080/",
          "height": 34
        },
        "id": "CrGXyQn5Lf_Y",
        "outputId": "04ef29d5-64fb-4071-e7e4-33e896cb7fb9"
      },
      "outputs": [
        {
          "data": {
            "text/plain": [
              "[0, 1, 2, 3, 4, 5, 6, 7, 8, 9]"
            ]
          },
          "execution_count": 46,
          "metadata": {
            "tags": []
          },
          "output_type": "execute_result"
        }
      ],
      "source": [
        "[i for i in range(10)] # generating list from range function"
      ]
    },
    {
      "cell_type": "code",
      "execution_count": null,
      "metadata": {
        "colab": {
          "base_uri": "https://localhost:8080/",
          "height": 34
        },
        "id": "1Mf-nE-2rKY7",
        "outputId": "7c9b16f8-768c-412a-d197-831e0dabbe18"
      },
      "outputs": [
        {
          "data": {
            "text/plain": [
              "[4, 6]"
            ]
          },
          "execution_count": 47,
          "metadata": {
            "tags": []
          },
          "output_type": "execute_result"
        }
      ],
      "source": [
        "y = [1,2,3,4,5,6]\n",
        "y[-3::2]\n",
        "#This means starting from the 3th element from the end, which is number 4, and counting backwards by 2 (skipping 1) until the beginning of the array is reached."
      ]
    },
    {
      "cell_type": "code",
      "execution_count": null,
      "metadata": {
        "colab": {
          "base_uri": "https://localhost:8080/",
          "height": 34
        },
        "id": "LlMk4AZGrcKr",
        "outputId": "ae8815e4-fb9b-4447-8611-07e3c3a892dd"
      },
      "outputs": [
        {
          "data": {
            "text/plain": [
              "[6, 5, 4, 3, 2, 1]"
            ]
          },
          "execution_count": 48,
          "metadata": {
            "tags": []
          },
          "output_type": "execute_result"
        }
      ],
      "source": [
        "y[::-1]"
      ]
    },
    {
      "cell_type": "markdown",
      "metadata": {
        "id": "7UyosU8bsvxV"
      },
      "source": [
        "### List Methods\n",
        "The methods of list are\n",
        "\n",
        "- append()\n",
        "\n",
        "- extend()\n",
        "\n",
        "- index()\n",
        "\n",
        "- insert()\n",
        "\n",
        "- pop()"
      ]
    },
    {
      "cell_type": "markdown",
      "metadata": {
        "id": "UITpw6Ko3RfJ"
      },
      "source": [
        "**append(a)** is used to append element a at the end of list."
      ]
    },
    {
      "cell_type": "code",
      "execution_count": null,
      "metadata": {
        "colab": {
          "base_uri": "https://localhost:8080/",
          "height": 34
        },
        "id": "lH9AKOAAsfof",
        "outputId": "60cc93dd-beee-4d6b-dd11-fec1b9023166"
      },
      "outputs": [
        {
          "name": "stdout",
          "output_type": "stream",
          "text": [
            "[1, 1, 4, 8, 7, 1]\n"
          ]
        }
      ],
      "source": [
        "#use of append\n",
        "lst = [1,1,4,8,7]\n",
        "lst.append(1)\n",
        "print (lst)"
      ]
    },
    {
      "cell_type": "markdown",
      "metadata": {
        "id": "NXdGmslOz-2s"
      },
      "source": [
        "#### Joining two lists\n",
        "\n",
        "**extend(lst)** is used to to nest one list lst into given list."
      ]
    },
    {
      "cell_type": "code",
      "execution_count": null,
      "metadata": {
        "colab": {
          "base_uri": "https://localhost:8080/",
          "height": 34
        },
        "id": "4uqMNAAuzAxr",
        "outputId": "de71bc62-8c07-4d2b-d1bf-1cb427d4968a"
      },
      "outputs": [
        {
          "data": {
            "text/plain": [
              "[1, 1, 4, 8, 7, 2, 5, 6, 7]"
            ]
          },
          "execution_count": 50,
          "metadata": {
            "tags": []
          },
          "output_type": "execute_result"
        }
      ],
      "source": [
        "lst1 = [1,1,4,8,7]\n",
        "lst2=[2,5,6,7]\n",
        "lst1.extend(lst2)\n",
        "lst1"
      ]
    },
    {
      "cell_type": "code",
      "execution_count": null,
      "metadata": {
        "colab": {
          "base_uri": "https://localhost:8080/",
          "height": 34
        },
        "id": "XUc-PCDi9N_w",
        "outputId": "8870fe9b-5c11-4e7e-d5b8-5f34734dc49a"
      },
      "outputs": [
        {
          "name": "stdout",
          "output_type": "stream",
          "text": [
            "['a', 'b', 'c', 1, 2, 3]\n"
          ]
        }
      ],
      "source": [
        "list1 = [\"a\", \"b\" , \"c\"]\n",
        "list2 = [1, 2, 3]\n",
        "\n",
        "list3 = list1 + list2\n",
        "print(list3)"
      ]
    },
    {
      "cell_type": "code",
      "execution_count": null,
      "metadata": {
        "colab": {
          "base_uri": "https://localhost:8080/",
          "height": 34
        },
        "id": "61BDewiF9VAL",
        "outputId": "54cc5b6f-ca11-4fe8-f652-55a9258086df"
      },
      "outputs": [
        {
          "name": "stdout",
          "output_type": "stream",
          "text": [
            "['a', 'b', 'c', 1, 2, 3]\n"
          ]
        }
      ],
      "source": [
        "list1 = [\"a\", \"b\" , \"c\"]\n",
        "list2 = [1, 2, 3]\n",
        "\n",
        "for x in list2:\n",
        "  list1.append(x)\n",
        "\n",
        "print(list1)"
      ]
    },
    {
      "cell_type": "markdown",
      "metadata": {
        "id": "E7nCaOCY0AH-"
      },
      "source": [
        "**index(i)** is used to find the index value of a particular element i. Note that if there are multiple elements of the same value then the first index value of that element is returned."
      ]
    },
    {
      "cell_type": "code",
      "execution_count": null,
      "metadata": {
        "colab": {
          "base_uri": "https://localhost:8080/",
          "height": 34
        },
        "id": "_wBWusm8zH0E",
        "outputId": "fb0c2fa9-35b0-4561-aaf5-b8f5acbef4f1"
      },
      "outputs": [
        {
          "data": {
            "text/plain": [
              "2"
            ]
          },
          "execution_count": 51,
          "metadata": {
            "tags": []
          },
          "output_type": "execute_result"
        }
      ],
      "source": [
        "lst.index(4)"
      ]
    },
    {
      "cell_type": "markdown",
      "metadata": {
        "id": "NmS9YzHB0AoU"
      },
      "source": [
        "**insert(a,b)** is used to insert a element y at a specified index value x. append( ) function made it only possible to insert at the end."
      ]
    },
    {
      "cell_type": "code",
      "execution_count": null,
      "metadata": {
        "colab": {
          "base_uri": "https://localhost:8080/",
          "height": 34
        },
        "id": "rQGM9NJuzdKO",
        "outputId": "d174109f-4676-43c1-a912-db4cc1f58e11"
      },
      "outputs": [
        {
          "name": "stdout",
          "output_type": "stream",
          "text": [
            "[1, 1, 4, 8, 'asus', 7, 1]\n"
          ]
        }
      ],
      "source": [
        "lst.insert(4,'asus')\n",
        "print(lst)"
      ]
    },
    {
      "cell_type": "markdown",
      "metadata": {
        "id": "Ul6aIlV_3mOh"
      },
      "source": [
        "**remove()** is used to delete elements from list"
      ]
    },
    {
      "cell_type": "code",
      "execution_count": null,
      "metadata": {
        "colab": {
          "base_uri": "https://localhost:8080/",
          "height": 34
        },
        "id": "Fk4WFQ6y30hc",
        "outputId": "6df22880-4893-477c-fc23-da49d7a3a17d"
      },
      "outputs": [
        {
          "name": "stdout",
          "output_type": "stream",
          "text": [
            "[1, 1, 4, 8, 7, 1]\n"
          ]
        }
      ],
      "source": [
        "lst.remove('asus')\n",
        "print(lst)"
      ]
    },
    {
      "cell_type": "markdown",
      "metadata": {
        "id": "GDT9NGHC0Bv7"
      },
      "source": [
        "**pop( )** removes the specified index, (or the last item if index is not specified). This is similar to the operation of a stack. Hence it wouldn't be wrong to tell that lists can be used as a stack."
      ]
    },
    {
      "cell_type": "code",
      "execution_count": null,
      "metadata": {
        "colab": {
          "base_uri": "https://localhost:8080/",
          "height": 34
        },
        "id": "L4oIQUVuz5-i",
        "outputId": "7f14141f-3af4-439d-c3e3-5c70f011f1a2"
      },
      "outputs": [
        {
          "data": {
            "text/plain": [
              "4"
            ]
          },
          "execution_count": 54,
          "metadata": {
            "tags": []
          },
          "output_type": "execute_result"
        }
      ],
      "source": [
        "lst.pop(2)"
      ]
    },
    {
      "cell_type": "markdown",
      "metadata": {
        "id": "rU699nl75nTV"
      },
      "source": [
        "**del** keyword removes the specified index. It is also used to list completely."
      ]
    },
    {
      "cell_type": "code",
      "execution_count": null,
      "metadata": {
        "colab": {
          "base_uri": "https://localhost:8080/",
          "height": 34
        },
        "id": "46rUdYlQ4DWW",
        "outputId": "eec2da80-1391-40d1-bd83-0443bf46987b"
      },
      "outputs": [
        {
          "data": {
            "text/plain": [
              "[1, 1, 8, 1]"
            ]
          },
          "execution_count": 58,
          "metadata": {
            "tags": []
          },
          "output_type": "execute_result"
        }
      ],
      "source": [
        "del lst[3]\n",
        "lst"
      ]
    },
    {
      "cell_type": "code",
      "execution_count": null,
      "metadata": {
        "colab": {
          "base_uri": "https://localhost:8080/",
          "height": 185
        },
        "id": "zMFgvGpa6ZQh",
        "outputId": "7fcd3a8f-32a1-46cb-95d9-52b05d5c0503"
      },
      "outputs": [
        {
          "ename": "NameError",
          "evalue": "ignored",
          "output_type": "error",
          "traceback": [
            "\u001b[0;31m---------------------------------------------------------------------------\u001b[0m",
            "\u001b[0;31mNameError\u001b[0m                                 Traceback (most recent call last)",
            "\u001b[0;32m<ipython-input-59-1b0e4c5e1305>\u001b[0m in \u001b[0;36m<module>\u001b[0;34m()\u001b[0m\n\u001b[1;32m      1\u001b[0m \u001b[0;32mdel\u001b[0m \u001b[0mlst1\u001b[0m\u001b[0;34m\u001b[0m\u001b[0;34m\u001b[0m\u001b[0m\n\u001b[0;32m----> 2\u001b[0;31m \u001b[0mlst1\u001b[0m\u001b[0;34m\u001b[0m\u001b[0;34m\u001b[0m\u001b[0m\n\u001b[0m",
            "\u001b[0;31mNameError\u001b[0m: name 'lst1' is not defined"
          ]
        }
      ],
      "source": [
        "del lst1\n",
        "lst1 # Gets error list not defined"
      ]
    },
    {
      "cell_type": "markdown",
      "metadata": {
        "id": "-BhJWllI6P8c"
      },
      "source": [
        "**reverse()** is used to reverse a list"
      ]
    },
    {
      "cell_type": "code",
      "execution_count": null,
      "metadata": {
        "colab": {
          "base_uri": "https://localhost:8080/",
          "height": 34
        },
        "id": "liTN_2iZ6jD1",
        "outputId": "d4f97fb9-fdb3-4af1-fbc1-90e78f0d6493"
      },
      "outputs": [
        {
          "name": "stdout",
          "output_type": "stream",
          "text": [
            "[1, 8, 1, 1]\n"
          ]
        }
      ],
      "source": [
        "lst.reverse()\n",
        "print(lst)"
      ]
    },
    {
      "cell_type": "markdown",
      "metadata": {
        "id": "edZ5snuN6r4p"
      },
      "source": [
        "**sort()** is used to sort a list in ascending order otherwise if reverse=True then descending"
      ]
    },
    {
      "cell_type": "code",
      "execution_count": null,
      "metadata": {
        "colab": {
          "base_uri": "https://localhost:8080/",
          "height": 34
        },
        "id": "R4eBGZxa6rX9",
        "outputId": "56c044cb-5bbe-458a-c03d-026f73ba7d55"
      },
      "outputs": [
        {
          "name": "stdout",
          "output_type": "stream",
          "text": [
            "[1, 1, 1, 8]\n"
          ]
        }
      ],
      "source": [
        "lst.sort()\n",
        "print(lst)"
      ]
    },
    {
      "cell_type": "code",
      "execution_count": null,
      "metadata": {
        "colab": {
          "base_uri": "https://localhost:8080/",
          "height": 34
        },
        "id": "ddVm5Pub67rN",
        "outputId": "052d0b05-684b-4eca-9403-f1f0773a4ae8"
      },
      "outputs": [
        {
          "name": "stdout",
          "output_type": "stream",
          "text": [
            "[8, 1, 1, 1]\n"
          ]
        }
      ],
      "source": [
        "lst.sort(reverse=True)\n",
        "print(lst)"
      ]
    },
    {
      "cell_type": "code",
      "execution_count": null,
      "metadata": {
        "colab": {
          "base_uri": "https://localhost:8080/",
          "height": 34
        },
        "id": "2OEJP-qz7KOX",
        "outputId": "729bb54e-fc2a-4b0d-c4eb-311ca9421474"
      },
      "outputs": [
        {
          "name": "stdout",
          "output_type": "stream",
          "text": [
            "['rajueatskaju', 'ucalyptus', 'shatadru', 'palspal', 'anitesh']\n"
          ]
        }
      ],
      "source": [
        "#for a string list we will use key condiiton again\n",
        "names_list.sort(key=len,reverse=True)\n",
        "print(names_list)"
      ]
    },
    {
      "cell_type": "markdown",
      "metadata": {
        "id": "VZaAP_0M8ka1"
      },
      "source": [
        "#### Copying a list"
      ]
    },
    {
      "cell_type": "code",
      "execution_count": null,
      "metadata": {
        "colab": {
          "base_uri": "https://localhost:8080/",
          "height": 34
        },
        "id": "lGODRQy27AzG",
        "outputId": "f4bc5a95-f738-40a9-9d6a-5ef5b671d923"
      },
      "outputs": [
        {
          "name": "stdout",
          "output_type": "stream",
          "text": [
            "['apple', 'banana', 'cherry']\n"
          ]
        }
      ],
      "source": [
        "thislist = [\"apple\", \"banana\", \"cherry\"]\n",
        "mylist = thislist.copy()\n",
        "print(mylist)"
      ]
    },
    {
      "cell_type": "code",
      "execution_count": null,
      "metadata": {
        "colab": {
          "base_uri": "https://localhost:8080/",
          "height": 34
        },
        "id": "YJ2FFf2988rR",
        "outputId": "a8876dd1-e727-4ff4-9f06-77916cc80605"
      },
      "outputs": [
        {
          "name": "stdout",
          "output_type": "stream",
          "text": [
            "['apple', 'banana', 'cherry']\n"
          ]
        }
      ],
      "source": [
        "thislist = [\"apple\", \"banana\", \"cherry\"]\n",
        "mylist = list(thislist)\n",
        "print(mylist)"
      ]
    },
    {
      "cell_type": "markdown",
      "metadata": {
        "id": "Ji-A71G48oNG"
      },
      "source": [
        "#### Clearing a list"
      ]
    },
    {
      "cell_type": "code",
      "execution_count": null,
      "metadata": {
        "colab": {
          "base_uri": "https://localhost:8080/",
          "height": 34
        },
        "id": "93rp5KAt8uxV",
        "outputId": "59a3028b-ebbe-4cb3-ec7a-3910b5ea4f64"
      },
      "outputs": [
        {
          "name": "stdout",
          "output_type": "stream",
          "text": [
            "[]\n"
          ]
        }
      ],
      "source": [
        "thislist = [\"apple\", \"banana\", \"cherry\"]\n",
        "thislist.clear()\n",
        "print(thislist)"
      ]
    },
    {
      "cell_type": "markdown",
      "metadata": {
        "id": "zqgr5yh0A-yO"
      },
      "source": [
        "#### Traversing a list"
      ]
    },
    {
      "cell_type": "code",
      "execution_count": null,
      "metadata": {
        "colab": {
          "base_uri": "https://localhost:8080/",
          "height": 86
        },
        "id": "k8ri0Jl1A-P8",
        "outputId": "3bffd946-92ae-4258-b552-799be9969814"
      },
      "outputs": [
        {
          "name": "stdout",
          "output_type": "stream",
          "text": [
            "2.71828\n",
            "3.1415926535\n",
            "1.32471\n",
            "3.3598856662\n"
          ]
        }
      ],
      "source": [
        "for i in math_constant_list:\n",
        "  print(i)"
      ]
    },
    {
      "cell_type": "code",
      "execution_count": null,
      "metadata": {
        "colab": {
          "base_uri": "https://localhost:8080/",
          "height": 86
        },
        "id": "wir_keeG86wl",
        "outputId": "2971f733-5019-4506-d8c2-499d792b1835"
      },
      "outputs": [
        {
          "name": "stdout",
          "output_type": "stream",
          "text": [
            "2.71828\n",
            "3.1415926535\n",
            "1.32471\n",
            "3.3598856662\n"
          ]
        }
      ],
      "source": [
        "for i in range(len(math_constant_list)):\n",
        "  print(math_constant_list[i])"
      ]
    },
    {
      "cell_type": "markdown",
      "metadata": {
        "id": "QACTSmYdBdd2"
      },
      "source": [
        "**count()** is used to count the no of elements i is present in list"
      ]
    },
    {
      "cell_type": "code",
      "execution_count": null,
      "metadata": {
        "colab": {
          "base_uri": "https://localhost:8080/",
          "height": 34
        },
        "id": "KGFXLiJ7BcIG",
        "outputId": "78b26c34-40b7-493c-fe0e-58bf0b0f6449"
      },
      "outputs": [
        {
          "data": {
            "text/plain": [
              "3"
            ]
          },
          "execution_count": 71,
          "metadata": {
            "tags": []
          },
          "output_type": "execute_result"
        }
      ],
      "source": [
        "lst.count(1)"
      ]
    },
    {
      "cell_type": "markdown",
      "metadata": {
        "id": "mlGWiTdcCAK5"
      },
      "source": [
        "### Tuples\n",
        "A tuple is a collection which is ordered and unchangeable. In Python tuples are written with round brackets."
      ]
    },
    {
      "cell_type": "code",
      "execution_count": null,
      "metadata": {
        "id": "kLviylNoBsXN"
      },
      "outputs": [],
      "source": [
        "c=(1,3,17,8)\n",
        "pete=('tensorflow','pytorch','Cuda','Cafe')"
      ]
    },
    {
      "cell_type": "markdown",
      "metadata": {
        "id": "4U6RFHH_mBPx"
      },
      "source": [
        "Tuples are similar to lists but only big difference is the elements inside a list can be changed but in tuple it cannot be changed."
      ]
    },
    {
      "cell_type": "code",
      "execution_count": null,
      "metadata": {
        "colab": {
          "base_uri": "https://localhost:8080/",
          "height": 34
        },
        "id": "nb7C_rozmDCA",
        "outputId": "690f1b66-33cc-4125-d7fe-afa117dd0b57"
      },
      "outputs": [
        {
          "data": {
            "text/plain": [
              "'pytorch'"
            ]
          },
          "execution_count": 74,
          "metadata": {
            "tags": []
          },
          "output_type": "execute_result"
        }
      ],
      "source": [
        "pete[1]"
      ]
    },
    {
      "cell_type": "code",
      "execution_count": null,
      "metadata": {
        "colab": {
          "base_uri": "https://localhost:8080/",
          "height": 167
        },
        "id": "fXdNG7k3meiw",
        "outputId": "c2e8b582-2869-4aae-be60-9379d09f307c"
      },
      "outputs": [
        {
          "ename": "TypeError",
          "evalue": "ignored",
          "output_type": "error",
          "traceback": [
            "\u001b[0;31m---------------------------------------------------------------------------\u001b[0m",
            "\u001b[0;31mTypeError\u001b[0m                                 Traceback (most recent call last)",
            "\u001b[0;32m<ipython-input-75-23f9ef3a7266>\u001b[0m in \u001b[0;36m<module>\u001b[0;34m()\u001b[0m\n\u001b[0;32m----> 1\u001b[0;31m \u001b[0mpete\u001b[0m\u001b[0;34m[\u001b[0m\u001b[0;36m1\u001b[0m\u001b[0;34m]\u001b[0m\u001b[0;34m=\u001b[0m\u001b[0;34m'asus'\u001b[0m \u001b[0;31m#\u001b[0m\u001b[0;34m\u001b[0m\u001b[0;34m\u001b[0m\u001b[0m\n\u001b[0m",
            "\u001b[0;31mTypeError\u001b[0m: 'tuple' object does not support item assignment"
          ]
        }
      ],
      "source": [
        "pete[1]='asus' #"
      ]
    },
    {
      "cell_type": "markdown",
      "metadata": {
        "id": "tzu4UP6xm3NZ"
      },
      "source": [
        "If you want to directly declare a tuple it can be done by using a comma at the end of the data."
      ]
    },
    {
      "cell_type": "code",
      "execution_count": null,
      "metadata": {
        "colab": {
          "base_uri": "https://localhost:8080/",
          "height": 34
        },
        "id": "9jC7NlMcmy6H",
        "outputId": "8534d873-acd6-487e-b212-50b8dda615ae"
      },
      "outputs": [
        {
          "data": {
            "text/plain": [
              "(11,)"
            ]
          },
          "execution_count": 76,
          "metadata": {
            "tags": []
          },
          "output_type": "execute_result"
        }
      ],
      "source": [
        "11,"
      ]
    },
    {
      "cell_type": "code",
      "execution_count": null,
      "metadata": {
        "colab": {
          "base_uri": "https://localhost:8080/",
          "height": 34
        },
        "id": "QkTO8XZ_mi4L",
        "outputId": "b77728f4-4a58-46c3-e29f-04faadb6c1b4"
      },
      "outputs": [
        {
          "data": {
            "text/plain": [
              "(11, 11)"
            ]
          },
          "execution_count": 77,
          "metadata": {
            "tags": []
          },
          "output_type": "execute_result"
        }
      ],
      "source": [
        "2*(11,)"
      ]
    },
    {
      "cell_type": "code",
      "execution_count": null,
      "metadata": {
        "id": "wNxuqnKPnFS7"
      },
      "outputs": [],
      "source": [
        "thr=tuple(numbers)# making a tuple\n",
        "thr2=tuple('No Newyears day')"
      ]
    },
    {
      "cell_type": "code",
      "execution_count": null,
      "metadata": {
        "colab": {
          "base_uri": "https://localhost:8080/",
          "height": 451
        },
        "id": "n7cm_fdoo5yj",
        "outputId": "ec5a36b1-d526-438b-e2fd-9dc3ffcebdb6"
      },
      "outputs": [
        {
          "data": {
            "text/plain": [
              "(0,\n",
              " 1,\n",
              " 2,\n",
              " 3,\n",
              " 4,\n",
              " 5,\n",
              " 6,\n",
              " 7,\n",
              " 8,\n",
              " 9,\n",
              " 10,\n",
              " 11,\n",
              " 12,\n",
              " 13,\n",
              " 14,\n",
              " 15,\n",
              " 16,\n",
              " 17,\n",
              " 18,\n",
              " 19,\n",
              " 20,\n",
              " 21,\n",
              " 22,\n",
              " 23,\n",
              " 24)"
            ]
          },
          "execution_count": 79,
          "metadata": {
            "tags": []
          },
          "output_type": "execute_result"
        }
      ],
      "source": [
        "thr"
      ]
    },
    {
      "cell_type": "code",
      "execution_count": null,
      "metadata": {
        "colab": {
          "base_uri": "https://localhost:8080/",
          "height": 34
        },
        "id": "LdeB-cNco6cv",
        "outputId": "eb43ad31-276a-4f4c-fb20-2bb1c397e2eb"
      },
      "outputs": [
        {
          "data": {
            "text/plain": [
              "('N', 'o', ' ', 'N', 'e', 'w', 'y', 'e', 'a', 'r', 's', ' ', 'd', 'a', 'y')"
            ]
          },
          "execution_count": 80,
          "metadata": {
            "tags": []
          },
          "output_type": "execute_result"
        }
      ],
      "source": [
        "thr2"
      ]
    },
    {
      "cell_type": "code",
      "execution_count": null,
      "metadata": {
        "colab": {
          "base_uri": "https://localhost:8080/",
          "height": 34
        },
        "id": "UFoquxpRpKcV",
        "outputId": "f22cd12b-3eb2-49ff-9343-a19f6a3602dc"
      },
      "outputs": [
        {
          "data": {
            "text/plain": [
              "2"
            ]
          },
          "execution_count": 98,
          "metadata": {
            "tags": []
          },
          "output_type": "execute_result"
        }
      ],
      "source": [
        "thr2.count('e')"
      ]
    },
    {
      "cell_type": "markdown",
      "metadata": {
        "id": "Vd1dHyYuRJnC"
      },
      "source": [
        "# Dictionaries"
      ]
    },
    {
      "cell_type": "markdown",
      "metadata": {
        "id": "PiwDLJvXRUWE"
      },
      "source": [
        " A Python dictionary is a mapping of unique keys to values. Dictionaries are mutable, which means they can be changed. A dictionary maps a set of objects (keys) to another set of objects (values)."
      ]
    },
    {
      "cell_type": "code",
      "execution_count": null,
      "metadata": {
        "colab": {
          "base_uri": "https://localhost:8080/",
          "height": 34
        },
        "id": "2YxinQaSRUmy",
        "outputId": "5a1c37c6-d888-4051-ca4d-cf369cab1fd0"
      },
      "outputs": [
        {
          "name": "stdout",
          "output_type": "stream",
          "text": [
            "<class 'dict'> <class 'dict'>\n"
          ]
        }
      ],
      "source": [
        "D0={}\n",
        "D1= dict()\n",
        "print(type(D0),type(D1))"
      ]
    },
    {
      "cell_type": "code",
      "execution_count": null,
      "metadata": {
        "colab": {
          "base_uri": "https://localhost:8080/",
          "height": 34
        },
        "id": "bpiKVZczRUq7",
        "outputId": "6c68a4a5-f000-458c-96d1-baf9f9199e57"
      },
      "outputs": [
        {
          "name": "stdout",
          "output_type": "stream",
          "text": [
            "{'One': 1, 'OneTwo': 12}\n"
          ]
        }
      ],
      "source": [
        "#Dictionary works somewhat like a list but with an added capability of assigning it's own index style.\n",
        "\n",
        "D0['One'] = 1\n",
        "D0['OneTwo'] = 12\n",
        "print (D0)"
      ]
    },
    {
      "cell_type": "code",
      "execution_count": null,
      "metadata": {
        "colab": {
          "base_uri": "https://localhost:8080/",
          "height": 52
        },
        "id": "LyS1dbnCRUvH",
        "outputId": "af4e6cac-f693-43cf-90db-d12c0a991313"
      },
      "outputs": [
        {
          "name": "stdout",
          "output_type": "stream",
          "text": [
            "1\n",
            "[('a', 1), ('b', 2), ('c', 3), ('d', 4), ('e', 5), ('f', 6), ('g', 7), ('h', 8)]\n"
          ]
        }
      ],
      "source": [
        "#That is how a dictionary looks like. Now you are able to access '1' by the index value set at 'One'\n",
        "print (D0['One'])\n",
        "1\n",
        "#Two lists which are related can be merged to form a dictionary.\n",
        "#zip( ) function is used to combine two lists\n",
        "numbers=[1,2,3,4,5,6,7,8]\n",
        "lst1=['a','b','c','d','e','f','g','h']\n",
        "D2 = zip(lst1,numbers)\n",
        "print(list(D2))"
      ]
    },
    {
      "cell_type": "code",
      "execution_count": null,
      "metadata": {
        "colab": {
          "base_uri": "https://localhost:8080/",
          "height": 104
        },
        "id": "NJ2plWenOD0G",
        "outputId": "dd72cc12-152c-4336-d96d-8845d568888d"
      },
      "outputs": [
        {
          "name": "stdout",
          "output_type": "stream",
          "text": [
            "{'history': 45, 'Geography': 54, 'Hindi': 56}\n",
            "54\n",
            "{'history': 45, 'Geography': 54, 'Hindi': 56, 'english': 47}\n",
            "{'history': 45, 'Geography': 54, 'Hindi': 56, 'english': 47, 'Chemistry': 89, 'Physics': 98}\n",
            "{'history': 45, 'Geography': 54, 'english': 47, 'Chemistry': 89, 'Physics': 98}\n"
          ]
        }
      ],
      "source": [
        "#Creating a dictionary\n",
        "\n",
        "marks={'history':45,'Geography':54,'Hindi':56}\n",
        "\n",
        "print(marks)\n",
        "\n",
        "# access elements\n",
        "\n",
        "print(marks['Geography'])\n",
        "\n",
        "#adding elements\n",
        "\n",
        "marks['english']=47\n",
        "\n",
        "print(marks)\n",
        "\n",
        "# Update keys\n",
        "marks.update({'Chemistry':89,'Physics':98})\n",
        "\n",
        "print(marks)\n",
        "\n",
        "del marks['Hindi']\n",
        "\n",
        "print(marks)"
      ]
    },
    {
      "cell_type": "code",
      "execution_count": null,
      "metadata": {
        "id": "Wt9Td1gjOsjB"
      },
      "outputs": [],
      "source": []
    },
    {
      "cell_type": "markdown",
      "metadata": {
        "id": "WNKaw_XWiJ7_"
      },
      "source": [
        "## Packages and Classes\n",
        "\n",
        "Creating packages and classes in Python is an important feature that makes it an object oriented programming language. It gives modularity and dynamicity.\n",
        "\n",
        "### Packages\n",
        "A package is a folder that contains other smaller programs or submodules.\n",
        "\n",
        "#### Importing packages\n",
        "Packages should be always be imported first in the program. The package is imported using *import* keyword\n",
        "\n",
        "`import package_name`"
      ]
    },
    {
      "cell_type": "code",
      "execution_count": 1,
      "metadata": {
        "id": "5Au_7lyVkVer"
      },
      "outputs": [
        {
          "name": "stdout",
          "output_type": "stream",
          "text": [
            "1701062639.130499\n"
          ]
        }
      ],
      "source": [
        "# Importing package\n",
        "import time\n",
        "\n",
        "print(time.time())"
      ]
    }
  ],
  "metadata": {
    "colab": {
      "name": "Python101 - Intro to Python.ipynb",
      "provenance": []
    },
    "kernelspec": {
      "display_name": "Python 3",
      "name": "python3"
    },
    "language_info": {
      "codemirror_mode": {
        "name": "ipython",
        "version": 3
      },
      "file_extension": ".py",
      "mimetype": "text/x-python",
      "name": "python",
      "nbconvert_exporter": "python",
      "pygments_lexer": "ipython3",
      "version": "3.10.11"
    }
  },
  "nbformat": 4,
  "nbformat_minor": 0
}
